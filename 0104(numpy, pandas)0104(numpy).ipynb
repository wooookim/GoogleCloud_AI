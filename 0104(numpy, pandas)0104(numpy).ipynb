{
  "nbformat": 4,
  "nbformat_minor": 0,
  "metadata": {
    "colab": {
      "provenance": [],
      "authorship_tag": "ABX9TyPYvepeKlI/5tWfi9vVjPHI",
      "include_colab_link": true
    },
    "kernelspec": {
      "name": "python3",
      "display_name": "Python 3"
    },
    "language_info": {
      "name": "python"
    }
  },
  "cells": [
    {
      "cell_type": "markdown",
      "metadata": {
        "id": "view-in-github",
        "colab_type": "text"
      },
      "source": [
        "<a href=\"https://colab.research.google.com/github/wooookim/GoogleCloud_AI/blob/main/0104(numpy).ipynb\" target=\"_parent\"><img src=\"https://colab.research.google.com/assets/colab-badge.svg\" alt=\"Open In Colab\"/></a>"
      ]
    },
    {
      "cell_type": "code",
      "execution_count": 145,
      "metadata": {
        "id": "W5tfEmfY6mDZ"
      },
      "outputs": [],
      "source": [
        "import numpy as np"
      ]
    },
    {
      "cell_type": "code",
      "source": [
        "'''\n",
        "표준수학 함수\n",
        "- 기술통계\n",
        "'''\n",
        "x = np.array([1,3,4,5,32,24,36,78,56,4,5,6,34,5,3,6,34,56,25,27])\n",
        "\n",
        "len(x)\n",
        "np.mean(x)\n",
        "np.average(x)\n",
        "np.var(x)  # 분산: 데이터와 샘플 평균 간 거리 차이의 제곱합\n",
        "np.std(x)  # 표준편차: 분산의 제곱근\n",
        "np.max(x)\n",
        "np.min(x)\n",
        "np.median(x)  # 짝수는 2개 중앙값 평균\n",
        "np.quantile(x, [.25, .5, .75])\n",
        "np.percentile(x, [0, 25, 50, 75, 100])\n",
        "np.sum(x)\n",
        "np.product(x)  # 전체곱"
      ],
      "metadata": {
        "colab": {
          "base_uri": "https://localhost:8080/"
        },
        "id": "P3c-5m8m7Yi2",
        "outputId": "96ce8e84-f907-428f-be5f-6dc4e1ac2aba"
      },
      "execution_count": 146,
      "outputs": [
        {
          "output_type": "execute_result",
          "data": {
            "text/plain": [
              "6918345990382551040"
            ]
          },
          "metadata": {},
          "execution_count": 146
        }
      ]
    },
    {
      "cell_type": "code",
      "source": [
        "'''\n",
        "선형대수\n",
        "- 벡터, 행렬, 선형 변환, 선형 방정식\n",
        "\n",
        "데이터 유형\n",
        "1. 스칼라: 하나의 숫자로 이루어진 데이터\n",
        "2. 벡터: 여러개의 숫자로 이루어진 데이터, data record\n",
        "3. 행렬: 벡터가 여러개 있는 데이터 집합\n",
        "'''"
      ],
      "metadata": {
        "colab": {
          "base_uri": "https://localhost:8080/",
          "height": 35
        },
        "id": "5AJEORQB7Yf1",
        "outputId": "70c86e49-4b1c-48ee-d230-dcd6c7ce9e57"
      },
      "execution_count": 147,
      "outputs": [
        {
          "output_type": "execute_result",
          "data": {
            "text/plain": [
              "'\\n선형대수\\n- 벡터, 행렬, 선형 변환, 선형 방정식\\n\\n데이터 유형\\n1. 스칼라: 하나의 숫자로 이루어진 데이터\\n2. 벡터: 여러개의 숫자로 이루어진 데이터, data record\\n3. 행렬: 벡터가 여러개 있는 데이터 집합\\n'"
            ],
            "application/vnd.google.colaboratory.intrinsic+json": {
              "type": "string"
            }
          },
          "metadata": {},
          "execution_count": 147
        }
      ]
    },
    {
      "cell_type": "code",
      "source": [
        "# 스칼라\n",
        "x = 1\n",
        "x"
      ],
      "metadata": {
        "colab": {
          "base_uri": "https://localhost:8080/"
        },
        "id": "1msKbXqq7Ycd",
        "outputId": "9fdcd410-c0ff-4d80-984f-34a2ef472a99"
      },
      "execution_count": 148,
      "outputs": [
        {
          "output_type": "execute_result",
          "data": {
            "text/plain": [
              "1"
            ]
          },
          "metadata": {},
          "execution_count": 148
        }
      ]
    },
    {
      "cell_type": "code",
      "source": [
        "# 벡터\n",
        "x = np.array([2, 2, 3])\n",
        "x\n",
        "\n",
        "# 선형대수에서는 벡터를 표현할  때 열의개수가 하나인 2차원 배열 형태로 표현을 권장\n",
        "# -> 벡터 = 열벡터\n",
        "x = np.array([[2],[2],[3]])\n",
        "x\n",
        "# rank가 1인 배열 객체도 대부분 벡터로 인정"
      ],
      "metadata": {
        "colab": {
          "base_uri": "https://localhost:8080/"
        },
        "id": "o8Y9VPFp7YZN",
        "outputId": "f344af6b-98d9-4b8e-b3a0-44bc023d7a39"
      },
      "execution_count": 149,
      "outputs": [
        {
          "output_type": "execute_result",
          "data": {
            "text/plain": [
              "array([[2],\n",
              "       [2],\n",
              "       [3]])"
            ]
          },
          "metadata": {},
          "execution_count": 149
        }
      ]
    },
    {
      "cell_type": "code",
      "source": [
        "# 행렬\n",
        "x = np.array([[2, 2],[3, 3], [4, 4]])\n",
        "x"
      ],
      "metadata": {
        "colab": {
          "base_uri": "https://localhost:8080/"
        },
        "id": "2a-AiaivCukb",
        "outputId": "eefafc45-dc9e-4b6e-d517-77d1a7725de5"
      },
      "execution_count": 150,
      "outputs": [
        {
          "output_type": "execute_result",
          "data": {
            "text/plain": [
              "array([[2, 2],\n",
              "       [3, 3],\n",
              "       [4, 4]])"
            ]
          },
          "metadata": {},
          "execution_count": 150
        }
      ]
    },
    {
      "cell_type": "code",
      "source": [
        "# 전치행렬\n",
        "x.T"
      ],
      "metadata": {
        "colab": {
          "base_uri": "https://localhost:8080/"
        },
        "id": "3ayLOwrCCuhr",
        "outputId": "69e1585d-9e74-48eb-f4c5-52a8142ad82a"
      },
      "execution_count": 151,
      "outputs": [
        {
          "output_type": "execute_result",
          "data": {
            "text/plain": [
              "array([[2, 3, 4],\n",
              "       [2, 3, 4]])"
            ]
          },
          "metadata": {},
          "execution_count": 151
        }
      ]
    },
    {
      "cell_type": "code",
      "source": [
        "'''\n",
        "특수한 벡터와 행렬\n",
        "\n",
        "- 영벡터: 모든 원소가 0인 n차원 벡터\n",
        "- 일벡터: 모든 원소가 1인 n차원 벡터\n",
        "\n",
        "- 영행렬: 모든 원소가 0인 n차원 행렬\n",
        "- 일행렬: 모든 원소가 1인 n차원 행렬\n",
        "- 정방행렬: 행의 개수와 열의 개수가 같은 행렬\n",
        "- 대각행렬: 모든 비대각 요소(off-diagnol)가 0인 정방 행렬\n",
        "  - 단위행렬: 대각행렬중에서 모든 대각 요소(주요소) 값이 1인 대각행렬\n",
        "- 대칭행렬: 원 행렬과 이 행렬을 전치 연산한 전치행렬이 같은 행렬\n",
        "'''"
      ],
      "metadata": {
        "colab": {
          "base_uri": "https://localhost:8080/",
          "height": 54
        },
        "id": "wHAXLleKCue6",
        "outputId": "173df13f-568e-40b4-eba7-8e063bf7d68b"
      },
      "execution_count": 152,
      "outputs": [
        {
          "output_type": "execute_result",
          "data": {
            "text/plain": [
              "'\\n특수한 벡터와 행렬\\n\\n- 영벡터: 모든 원소가 0인 n차원 벡터\\n- 일벡터: 모든 원소가 1인 n차원 벡터\\n\\n- 영행렬: 모든 원소가 0인 n차원 행렬\\n- 일행렬: 모든 원소가 1인 n차원 행렬\\n- 정방행렬: 행의 개수와 열의 개수가 같은 행렬\\n- 대각행렬: 모든 비대각 요소(off-diagnol)가 0인 정방 행렬\\n  - 단위행렬: 대각행렬중에서 모든 대각 요소(주요소) 값이 1인 대각행렬\\n- 대칭행렬: 원 행렬과 이 행렬을 전치 연산한 전치행렬이 같은 행렬\\n'"
            ],
            "application/vnd.google.colaboratory.intrinsic+json": {
              "type": "string"
            }
          },
          "metadata": {},
          "execution_count": 152
        }
      ]
    },
    {
      "cell_type": "code",
      "source": [
        "# 영행렬\n",
        "np.zeros((3, 3))"
      ],
      "metadata": {
        "colab": {
          "base_uri": "https://localhost:8080/"
        },
        "id": "1LmYmzmWCucD",
        "outputId": "480a230b-4bf7-4309-bfe4-3917bd0284ac"
      },
      "execution_count": 153,
      "outputs": [
        {
          "output_type": "execute_result",
          "data": {
            "text/plain": [
              "array([[0., 0., 0.],\n",
              "       [0., 0., 0.],\n",
              "       [0., 0., 0.]])"
            ]
          },
          "metadata": {},
          "execution_count": 153
        }
      ]
    },
    {
      "cell_type": "code",
      "source": [
        "# 일행렬\n",
        "np.ones((3, 3))"
      ],
      "metadata": {
        "colab": {
          "base_uri": "https://localhost:8080/"
        },
        "id": "81Iln7PCCuZD",
        "outputId": "3d74436c-5c07-4e19-b0d3-09c518eaf8ad"
      },
      "execution_count": 154,
      "outputs": [
        {
          "output_type": "execute_result",
          "data": {
            "text/plain": [
              "array([[1., 1., 1.],\n",
              "       [1., 1., 1.],\n",
              "       [1., 1., 1.]])"
            ]
          },
          "metadata": {},
          "execution_count": 154
        }
      ]
    },
    {
      "cell_type": "code",
      "source": [
        "# 특정 상수 행렬\n",
        "np.full((3, 3), 10)"
      ],
      "metadata": {
        "colab": {
          "base_uri": "https://localhost:8080/"
        },
        "id": "MiHfkgAG7YWV",
        "outputId": "b1c58afc-2627-4f4c-bbeb-58b6625f8a14"
      },
      "execution_count": 155,
      "outputs": [
        {
          "output_type": "execute_result",
          "data": {
            "text/plain": [
              "array([[10, 10, 10],\n",
              "       [10, 10, 10],\n",
              "       [10, 10, 10]])"
            ]
          },
          "metadata": {},
          "execution_count": 155
        }
      ]
    },
    {
      "cell_type": "code",
      "source": [
        "# 대각행렬\n",
        "np.diag((1, 2))\n",
        "np.diag([1, 2, 3])"
      ],
      "metadata": {
        "colab": {
          "base_uri": "https://localhost:8080/"
        },
        "id": "b0hwnbK6JZgY",
        "outputId": "075cf223-3112-47e9-a9dc-f8d7b4581b85"
      },
      "execution_count": 156,
      "outputs": [
        {
          "output_type": "execute_result",
          "data": {
            "text/plain": [
              "array([[1, 0, 0],\n",
              "       [0, 2, 0],\n",
              "       [0, 0, 3]])"
            ]
          },
          "metadata": {},
          "execution_count": 156
        }
      ]
    },
    {
      "cell_type": "code",
      "source": [
        "# 단위 행렬\n",
        "np.eye(3)"
      ],
      "metadata": {
        "colab": {
          "base_uri": "https://localhost:8080/"
        },
        "id": "1hAsZvw5JZeH",
        "outputId": "34a6522f-39e8-47f7-d0b2-94e0fd8a9317"
      },
      "execution_count": 157,
      "outputs": [
        {
          "output_type": "execute_result",
          "data": {
            "text/plain": [
              "array([[1., 0., 0.],\n",
              "       [0., 1., 0.],\n",
              "       [0., 0., 1.]])"
            ]
          },
          "metadata": {},
          "execution_count": 157
        }
      ]
    },
    {
      "cell_type": "code",
      "source": [
        "I = np.identity(3)\n",
        "np.diag(I)"
      ],
      "metadata": {
        "colab": {
          "base_uri": "https://localhost:8080/"
        },
        "id": "Hk7p4AydJZbn",
        "outputId": "9ac48f60-fb89-4162-ed22-42120ca7fbd2"
      },
      "execution_count": 158,
      "outputs": [
        {
          "output_type": "execute_result",
          "data": {
            "text/plain": [
              "array([1., 1., 1.])"
            ]
          },
          "metadata": {},
          "execution_count": 158
        }
      ]
    },
    {
      "cell_type": "code",
      "source": [
        "'''\n",
        "벡터 내적\n",
        "- 합성곱\n",
        "- 결과행렬은 앞 행렬의 행벡터와 뒤 행렬의 열벡터를 내적한 값을 스칼라로 가지는 행렬\n",
        "'''\n",
        "x = np.array([[1,2], [3,4]])\n",
        "y = np.array([9, 10])\n",
        "\n",
        "print(x * y)\n",
        "# 내적\n",
        "print(np.dot(x, y))"
      ],
      "metadata": {
        "colab": {
          "base_uri": "https://localhost:8080/"
        },
        "id": "DyYuwfqHLtR_",
        "outputId": "45eb506f-f775-4a90-8bcd-72163290e0fa"
      },
      "execution_count": 159,
      "outputs": [
        {
          "output_type": "stream",
          "name": "stdout",
          "text": [
            "[[ 9 20]\n",
            " [27 40]]\n",
            "[29 67]\n"
          ]
        }
      ]
    },
    {
      "cell_type": "code",
      "source": [
        "'''\n",
        "브로드캐스팅\n",
        "- 모양이 다른 배열들 간의 연산이 어떤 조건을 만족했을 때 가능하도록 배열을 자동 변환\n",
        "- 조건\n",
        "  1. 한 쪽 차원 크기가 1, 즉 스칼라일 경우\n",
        "  2. 차원의 크기가 1이 아닐 경우, 차원의 짝이 맞는 조건 필요(축의 길이가 같을 경우)\n",
        "'''"
      ],
      "metadata": {
        "colab": {
          "base_uri": "https://localhost:8080/",
          "height": 35
        },
        "id": "RD_1WR9gLtPn",
        "outputId": "3bc39a95-4bb5-4a87-edbe-a0d7768ce09b"
      },
      "execution_count": 160,
      "outputs": [
        {
          "output_type": "execute_result",
          "data": {
            "text/plain": [
              "'\\n브로드캐스팅\\n- 모양이 다른 배열들 간의 연산이 어떤 조건을 만족했을 때 가능하도록 배열을 자동 변환\\n- 조건\\n  1. 한 쪽 차원 크기가 1, 즉 스칼라일 경우\\n  2. 차원의 크기가 1이 아닐 경우, 차원의 짝이 맞는 조건 필요(축의 길이가 같을 경우)\\n'"
            ],
            "application/vnd.google.colaboratory.intrinsic+json": {
              "type": "string"
            }
          },
          "metadata": {},
          "execution_count": 160
        }
      ]
    },
    {
      "cell_type": "code",
      "source": [
        "# 한 쪽이 스칼라인 경우\n",
        "a = np.array([[1, 2], [3, 4]])\n",
        "b = 10\n",
        "\n",
        "a + b"
      ],
      "metadata": {
        "colab": {
          "base_uri": "https://localhost:8080/"
        },
        "id": "Fev0xoruLtNP",
        "outputId": "7ff5ffaa-70c6-4eb2-a0c1-8e6f912f3542"
      },
      "execution_count": 161,
      "outputs": [
        {
          "output_type": "execute_result",
          "data": {
            "text/plain": [
              "array([[11, 12],\n",
              "       [13, 14]])"
            ]
          },
          "metadata": {},
          "execution_count": 161
        }
      ]
    },
    {
      "cell_type": "code",
      "source": [
        "# 축의 길이가 같은 경우\n",
        "c = np.array([[1, 2], [3, 4]])\n",
        "d = np.array([1, 2])\n",
        "\n",
        "c + d"
      ],
      "metadata": {
        "colab": {
          "base_uri": "https://localhost:8080/"
        },
        "id": "sKDenx9hLtKW",
        "outputId": "46abadcc-640b-4d4f-e761-a99d37b92937"
      },
      "execution_count": 162,
      "outputs": [
        {
          "output_type": "execute_result",
          "data": {
            "text/plain": [
              "array([[2, 4],\n",
              "       [4, 6]])"
            ]
          },
          "metadata": {},
          "execution_count": 162
        }
      ]
    },
    {
      "cell_type": "code",
      "source": [
        "# 차원이 1이 아니라면\n",
        "a = np.array([1, 2, 3, 4])\n",
        "b = np.array([1, 2])\n",
        "\n",
        "a + b"
      ],
      "metadata": {
        "colab": {
          "base_uri": "https://localhost:8080/",
          "height": 221
        },
        "id": "8UfUvqGjLtHX",
        "outputId": "5488d3a8-ba1e-4bf4-b193-e9820320348c"
      },
      "execution_count": 163,
      "outputs": [
        {
          "output_type": "error",
          "ename": "ValueError",
          "evalue": "ignored",
          "traceback": [
            "\u001b[0;31m---------------------------------------------------------------------------\u001b[0m",
            "\u001b[0;31mValueError\u001b[0m                                Traceback (most recent call last)",
            "\u001b[0;32m<ipython-input-163-8ec23d4364bb>\u001b[0m in \u001b[0;36m<cell line: 5>\u001b[0;34m()\u001b[0m\n\u001b[1;32m      3\u001b[0m \u001b[0mb\u001b[0m \u001b[0;34m=\u001b[0m \u001b[0mnp\u001b[0m\u001b[0;34m.\u001b[0m\u001b[0marray\u001b[0m\u001b[0;34m(\u001b[0m\u001b[0;34m[\u001b[0m\u001b[0;36m1\u001b[0m\u001b[0;34m,\u001b[0m \u001b[0;36m2\u001b[0m\u001b[0;34m]\u001b[0m\u001b[0;34m)\u001b[0m\u001b[0;34m\u001b[0m\u001b[0;34m\u001b[0m\u001b[0m\n\u001b[1;32m      4\u001b[0m \u001b[0;34m\u001b[0m\u001b[0m\n\u001b[0;32m----> 5\u001b[0;31m \u001b[0ma\u001b[0m \u001b[0;34m+\u001b[0m \u001b[0mb\u001b[0m\u001b[0;34m\u001b[0m\u001b[0;34m\u001b[0m\u001b[0m\n\u001b[0m",
            "\u001b[0;31mValueError\u001b[0m: operands could not be broadcast together with shapes (4,) (2,) "
          ]
        }
      ]
    },
    {
      "cell_type": "code",
      "source": [
        "x = np.ones((3,3))\n",
        "y = 5\n",
        "\n",
        "x * y"
      ],
      "metadata": {
        "colab": {
          "base_uri": "https://localhost:8080/"
        },
        "id": "9f46OnkpLtEv",
        "outputId": "bb8494b5-a840-42df-9381-0f1738a3a791"
      },
      "execution_count": 164,
      "outputs": [
        {
          "output_type": "execute_result",
          "data": {
            "text/plain": [
              "array([[5., 5., 5.],\n",
              "       [5., 5., 5.],\n",
              "       [5., 5., 5.]])"
            ]
          },
          "metadata": {},
          "execution_count": 164
        }
      ]
    },
    {
      "cell_type": "code",
      "source": [
        "y = np.arange(3)\n",
        "\n",
        "x + y"
      ],
      "metadata": {
        "colab": {
          "base_uri": "https://localhost:8080/"
        },
        "id": "IyGIUN27JZZQ",
        "outputId": "deb09e4e-568c-4483-c380-c19e6ed881bd"
      },
      "execution_count": 165,
      "outputs": [
        {
          "output_type": "execute_result",
          "data": {
            "text/plain": [
              "array([[1., 2., 3.],\n",
              "       [1., 2., 3.],\n",
              "       [1., 2., 3.]])"
            ]
          },
          "metadata": {},
          "execution_count": 165
        }
      ]
    },
    {
      "cell_type": "code",
      "source": [
        "x = np.arange(3).reshape(3, 1)\n",
        "y = np.arange(3)\n",
        "\n",
        "x, y, x + y"
      ],
      "metadata": {
        "colab": {
          "base_uri": "https://localhost:8080/"
        },
        "id": "MPh4t5zKJZWJ",
        "outputId": "4037e612-7936-4d97-e437-0d29289ad1e9"
      },
      "execution_count": 166,
      "outputs": [
        {
          "output_type": "execute_result",
          "data": {
            "text/plain": [
              "(array([[0],\n",
              "        [1],\n",
              "        [2]]),\n",
              " array([0, 1, 2]),\n",
              " array([[0, 1, 2],\n",
              "        [1, 2, 3],\n",
              "        [2, 3, 4]]))"
            ]
          },
          "metadata": {},
          "execution_count": 166
        }
      ]
    },
    {
      "cell_type": "code",
      "source": [
        "'''\n",
        "차원축소 연산\n",
        "\n",
        "행렬의 하나의 행에 있는 원소들을 데이터 집합으로 보고 그집합의 평균을 구하면 각 집합당 하나의 값이 나고게 되고, 그 값들만 따로 데이터 집합으로 두면 차원 축소가 된다\n",
        "\n",
        "활용 매서드\n",
        "1. argmin: 최소값 위치\n",
        "2. argmax: 최대값 위치\n",
        "3. all/any: 참/거짓\n",
        "\n",
        "축 지정\n",
        "- axis\n",
        "'''\n",
        "x = np.array([0, 1, 10, 100])\n",
        "x.min()\n",
        "x.max()\n",
        "x.argmin()\n",
        "x.argmax()\n",
        "x.all()"
      ],
      "metadata": {
        "colab": {
          "base_uri": "https://localhost:8080/"
        },
        "id": "sy6ITrI2U5nj",
        "outputId": "3bd8972b-7208-4fc0-be55-c98cfd6d3eb8"
      },
      "execution_count": 167,
      "outputs": [
        {
          "output_type": "execute_result",
          "data": {
            "text/plain": [
              "False"
            ]
          },
          "metadata": {},
          "execution_count": 167
        }
      ]
    },
    {
      "cell_type": "code",
      "source": [
        "# all\n",
        "# 배열의 모든 요소가 True인지 평가하는 함수\n",
        "np.all([True, True, False])"
      ],
      "metadata": {
        "colab": {
          "base_uri": "https://localhost:8080/"
        },
        "id": "gnVLZZ8vU5eD",
        "outputId": "22326ed9-169f-46de-9c1a-b370abaebfc1"
      },
      "execution_count": 168,
      "outputs": [
        {
          "output_type": "execute_result",
          "data": {
            "text/plain": [
              "False"
            ]
          },
          "metadata": {},
          "execution_count": 168
        }
      ]
    },
    {
      "cell_type": "code",
      "source": [
        "# any\n",
        "np.any([True, True, False])"
      ],
      "metadata": {
        "colab": {
          "base_uri": "https://localhost:8080/"
        },
        "id": "d_raqXKWU5ai",
        "outputId": "50da2dec-3260-400b-9494-35aeb3494003"
      },
      "execution_count": 169,
      "outputs": [
        {
          "output_type": "execute_result",
          "data": {
            "text/plain": [
              "True"
            ]
          },
          "metadata": {},
          "execution_count": 169
        }
      ]
    },
    {
      "cell_type": "code",
      "source": [
        "# axis\n",
        "x = np.array([[1,1], [2,2]])\n",
        "x.sum(axis = 0)  # 열\n",
        "x.sum(axis = 1)  # 행"
      ],
      "metadata": {
        "colab": {
          "base_uri": "https://localhost:8080/"
        },
        "id": "gCsA0uRKU5X7",
        "outputId": "9a53f28d-a0ca-42b1-aa95-a3b5f9b655ef"
      },
      "execution_count": 170,
      "outputs": [
        {
          "output_type": "execute_result",
          "data": {
            "text/plain": [
              "array([2, 4])"
            ]
          },
          "metadata": {},
          "execution_count": 170
        }
      ]
    },
    {
      "cell_type": "code",
      "source": [
        "'''\n",
        "넘파이 데이터 자료형\n",
        "\n",
        "dtype 속성에서 첫글자 부여\n",
        "- b: boolian\n",
        "- i: integer\n",
        "- f: floating-point(부동소수점)\n",
        "- c: 복소수 부동소수점\n",
        "- o: 객체\n",
        "- s: 바이트 문자열\n",
        "- U: 유니코드 문자열\n",
        "\n",
        "- inf: 무한대\n",
        "- NaN: Not a Number\n",
        "- N/A: Not Available, Not Applicable\n",
        "'''"
      ],
      "metadata": {
        "colab": {
          "base_uri": "https://localhost:8080/",
          "height": 54
        },
        "id": "dsOVr4OkJZTo",
        "outputId": "cd76147d-81db-43a9-dc2b-f4eb265b5010"
      },
      "execution_count": 171,
      "outputs": [
        {
          "output_type": "execute_result",
          "data": {
            "text/plain": [
              "'\\n넘파이 데이터 자료형\\n\\ndtype 속성에서 첫글자 부여\\n- b: boolian\\n- i: integer\\n- f: floating-point(부동소수점)\\n- c: 복소수 부동소수점\\n- o: 객체\\n- s: 바이트 문자열\\n- U: 유니코드 문자열\\n\\n- inf: 무한대\\n- NaN: Not a Number\\n- N/A: Not Available, Not Applicable\\n'"
            ],
            "application/vnd.google.colaboratory.intrinsic+json": {
              "type": "string"
            }
          },
          "metadata": {},
          "execution_count": 171
        }
      ]
    },
    {
      "cell_type": "code",
      "source": [
        "x = np.array([1, 2, 3])\n",
        "x.dtype"
      ],
      "metadata": {
        "colab": {
          "base_uri": "https://localhost:8080/"
        },
        "id": "JR4FIKmrZVax",
        "outputId": "ab6098e0-a080-4797-d6ab-9c6f74dc1a0a"
      },
      "execution_count": 172,
      "outputs": [
        {
          "output_type": "execute_result",
          "data": {
            "text/plain": [
              "dtype('int64')"
            ]
          },
          "metadata": {},
          "execution_count": 172
        }
      ]
    },
    {
      "cell_type": "code",
      "source": [
        "x = np.array([1, 2, 3.0])\n",
        "x.dtype"
      ],
      "metadata": {
        "colab": {
          "base_uri": "https://localhost:8080/"
        },
        "id": "y7z62ByUZVYB",
        "outputId": "a0b7a51c-6de4-487c-868a-a6a11411458b"
      },
      "execution_count": 173,
      "outputs": [
        {
          "output_type": "execute_result",
          "data": {
            "text/plain": [
              "dtype('float64')"
            ]
          },
          "metadata": {},
          "execution_count": 173
        }
      ]
    },
    {
      "cell_type": "code",
      "source": [
        "x = np.array([1, 'A', 3.0])\n",
        "x.dtype"
      ],
      "metadata": {
        "colab": {
          "base_uri": "https://localhost:8080/"
        },
        "id": "fA7ydSH4ZVVC",
        "outputId": "503faf2e-a3b2-4a99-d435-648587312dcf"
      },
      "execution_count": 174,
      "outputs": [
        {
          "output_type": "execute_result",
          "data": {
            "text/plain": [
              "dtype('<U32')"
            ]
          },
          "metadata": {},
          "execution_count": 174
        }
      ]
    },
    {
      "cell_type": "code",
      "source": [
        "# 형변환\n",
        "x = np.array([1., 2.55, 3.], dtype = 'i')\n",
        "x"
      ],
      "metadata": {
        "colab": {
          "base_uri": "https://localhost:8080/"
        },
        "id": "_ejkODUzZVQ6",
        "outputId": "9c45840c-2b17-45f5-b43b-7b1e8844a670"
      },
      "execution_count": 175,
      "outputs": [
        {
          "output_type": "execute_result",
          "data": {
            "text/plain": [
              "array([1, 2, 3], dtype=int32)"
            ]
          },
          "metadata": {},
          "execution_count": 175
        }
      ]
    },
    {
      "cell_type": "code",
      "source": [
        "x[0] + x[1]"
      ],
      "metadata": {
        "colab": {
          "base_uri": "https://localhost:8080/"
        },
        "id": "OgJv41EpZVMy",
        "outputId": "86141dd5-1993-4dc5-a656-0882ca294ce2"
      },
      "execution_count": 176,
      "outputs": [
        {
          "output_type": "execute_result",
          "data": {
            "text/plain": [
              "3"
            ]
          },
          "metadata": {},
          "execution_count": 176
        }
      ]
    },
    {
      "cell_type": "code",
      "source": [
        "np.array([0,1,-1,0] / np.array([1,0,0,0]))"
      ],
      "metadata": {
        "colab": {
          "base_uri": "https://localhost:8080/"
        },
        "id": "f-bMncpo7YKW",
        "outputId": "7177d1c3-93d9-4c07-efd6-009b8ce4aa57"
      },
      "execution_count": 177,
      "outputs": [
        {
          "output_type": "stream",
          "name": "stderr",
          "text": [
            "<ipython-input-177-9894390229ba>:1: RuntimeWarning: divide by zero encountered in divide\n",
            "  np.array([0,1,-1,0] / np.array([1,0,0,0]))\n",
            "<ipython-input-177-9894390229ba>:1: RuntimeWarning: invalid value encountered in divide\n",
            "  np.array([0,1,-1,0] / np.array([1,0,0,0]))\n"
          ]
        },
        {
          "output_type": "execute_result",
          "data": {
            "text/plain": [
              "array([  0.,  inf, -inf,  nan])"
            ]
          },
          "metadata": {},
          "execution_count": 177
        }
      ]
    },
    {
      "cell_type": "code",
      "source": [
        "'''\n",
        "넘파이 제공 함수\n",
        "- 난수\n",
        "'''"
      ],
      "metadata": {
        "colab": {
          "base_uri": "https://localhost:8080/",
          "height": 35
        },
        "id": "x7IEMetB7YAV",
        "outputId": "c0627f7f-be7d-4fb5-c341-4c98a87b56d6"
      },
      "execution_count": 178,
      "outputs": [
        {
          "output_type": "execute_result",
          "data": {
            "text/plain": [
              "'\\n넘파이 제공 함수\\n- 난수\\n'"
            ],
            "application/vnd.google.colaboratory.intrinsic+json": {
              "type": "string"
            }
          },
          "metadata": {},
          "execution_count": 178
        }
      ]
    },
    {
      "cell_type": "code",
      "source": [
        "# 난수\n",
        "np.random.seed(42)\n",
        "np.random.rand(5)"
      ],
      "metadata": {
        "colab": {
          "base_uri": "https://localhost:8080/"
        },
        "id": "2UWZssZJcwSn",
        "outputId": "8b6e12ea-5ff5-4e28-fe46-1d738a2e7367"
      },
      "execution_count": 179,
      "outputs": [
        {
          "output_type": "execute_result",
          "data": {
            "text/plain": [
              "array([0.37454012, 0.95071431, 0.73199394, 0.59865848, 0.15601864])"
            ]
          },
          "metadata": {},
          "execution_count": 179
        }
      ]
    },
    {
      "cell_type": "code",
      "source": [
        "np.random.seed(0)\n",
        "np.random.rand(5), np.random.rand(5)"
      ],
      "metadata": {
        "colab": {
          "base_uri": "https://localhost:8080/"
        },
        "id": "8lHMnqSKcwGH",
        "outputId": "699c87dd-2e7c-4f49-b953-114f57bafd05"
      },
      "execution_count": 183,
      "outputs": [
        {
          "output_type": "execute_result",
          "data": {
            "text/plain": [
              "(array([0.5488135 , 0.71518937, 0.60276338, 0.54488318, 0.4236548 ]),\n",
              " array([0.64589411, 0.43758721, 0.891773  , 0.96366276, 0.38344152]))"
            ]
          },
          "metadata": {},
          "execution_count": 183
        }
      ]
    },
    {
      "cell_type": "code",
      "source": [
        "np.random.seed(2)\n",
        "np.random.rand(5), np.random.rand(5)"
      ],
      "metadata": {
        "colab": {
          "base_uri": "https://localhost:8080/"
        },
        "id": "RIhVx_VpcwB3",
        "outputId": "60cf29fe-c3ca-48e5-8d8b-7b7ccc456c12"
      },
      "execution_count": 184,
      "outputs": [
        {
          "output_type": "execute_result",
          "data": {
            "text/plain": [
              "(array([0.4359949 , 0.02592623, 0.54966248, 0.43532239, 0.4203678 ]),\n",
              " array([0.33033482, 0.20464863, 0.61927097, 0.29965467, 0.26682728]))"
            ]
          },
          "metadata": {},
          "execution_count": 184
        }
      ]
    },
    {
      "cell_type": "code",
      "source": [
        "for i in range(10):\n",
        "  print(np.random.rand())\n",
        "\n",
        "np.random.rand(10)"
      ],
      "metadata": {
        "colab": {
          "base_uri": "https://localhost:8080/"
        },
        "id": "jUf6ICbucv9X",
        "outputId": "e126edf8-76d3-4179-aca2-032f84d98ba9"
      },
      "execution_count": 188,
      "outputs": [
        {
          "output_type": "stream",
          "name": "stdout",
          "text": [
            "0.7367470562871129\n",
            "0.37921056694163746\n",
            "0.01301733669455063\n",
            "0.7974049390325936\n",
            "0.2693887975963012\n",
            "0.5826848885290346\n",
            "0.025550941849692754\n",
            "0.6622020192683258\n",
            "0.3875234258732815\n",
            "0.49707379873451263\n"
          ]
        },
        {
          "output_type": "execute_result",
          "data": {
            "text/plain": [
              "array([0.41490584, 0.3508719 , 0.55097791, 0.97291069, 0.11277622,\n",
              "       0.31325853, 0.04179771, 0.73839976, 0.65751239, 0.21463575])"
            ]
          },
          "metadata": {},
          "execution_count": 188
        }
      ]
    },
    {
      "cell_type": "code",
      "source": [
        "# shuffle\n",
        "x = np.arange(10)\n",
        "\n",
        "np.random.shuffle(x)\n",
        "x"
      ],
      "metadata": {
        "colab": {
          "base_uri": "https://localhost:8080/"
        },
        "id": "gz5l1pMR3d8c",
        "outputId": "8e54a67d-f068-4c72-8bb7-a3c397d69edf"
      },
      "execution_count": 192,
      "outputs": [
        {
          "output_type": "execute_result",
          "data": {
            "text/plain": [
              "array([7, 4, 3, 8, 6, 0, 2, 9, 5, 1])"
            ]
          },
          "metadata": {},
          "execution_count": 192
        }
      ]
    },
    {
      "cell_type": "code",
      "source": [
        "'''\n",
        "데이터 샘플링\n",
        "- 이미 있는 데이터 집합에서 무작위로 선택\n",
        "'''\n",
        "np.random.choice(x, 10, replace = False)   # 매개변수 (원본데이터, 추출 크기, 반복 여부)\n",
        "np.random.choice(5, 5, replace = True)   # 추출크기가 데이터보다 크면 replace는 True로 설정해서 출력할 것\n",
        "np.random.choice(5, 5, replace = True, p=[0.1,0,0,0.3,0.6])   # 매개변수 p로 출현 확률 지정"
      ],
      "metadata": {
        "colab": {
          "base_uri": "https://localhost:8080/"
        },
        "id": "30qjdTui3d40",
        "outputId": "7172a7fc-5a45-4856-885d-24bf608f82ab"
      },
      "execution_count": 236,
      "outputs": [
        {
          "output_type": "execute_result",
          "data": {
            "text/plain": [
              "array([4, 4, 4, 4, 4])"
            ]
          },
          "metadata": {},
          "execution_count": 236
        }
      ]
    },
    {
      "cell_type": "code",
      "source": [
        "np.random.sample(10)"
      ],
      "metadata": {
        "colab": {
          "base_uri": "https://localhost:8080/"
        },
        "id": "sqQWo95O4KVc",
        "outputId": "6487257e-3860-4abf-e73a-c401523fc2bd"
      },
      "execution_count": 199,
      "outputs": [
        {
          "output_type": "execute_result",
          "data": {
            "text/plain": [
              "array([0.37304105, 0.01080092, 0.84846201, 0.24316678, 0.68002726,\n",
              "       0.67713974, 0.88582741, 0.15356567, 0.94669413, 0.29374373])"
            ]
          },
          "metadata": {},
          "execution_count": 199
        }
      ]
    },
    {
      "cell_type": "code",
      "source": [
        "'''\n",
        "rand(): 0 ~ 1 실수 - 균일분표\n",
        "randn(): 실수 - 가우시안 표준 정규 분포\n",
        "randint(): 정수 - 균일분포\n",
        "  - randint(low, high, size)\n",
        "'''\n",
        "np.random.rand(5), np.random.rand(3, 5)"
      ],
      "metadata": {
        "colab": {
          "base_uri": "https://localhost:8080/"
        },
        "id": "6RjK7KtM4KNF",
        "outputId": "eac1f6e8-9d96-4644-e1fe-be2f303b6fc6"
      },
      "execution_count": 240,
      "outputs": [
        {
          "output_type": "execute_result",
          "data": {
            "text/plain": [
              "(array([0.50019799, 0.03946572, 0.2132418 , 0.36899204, 0.84760649]),\n",
              " array([[8.75681081e-01, 4.68470246e-04, 4.09984329e-01, 8.89430601e-01,\n",
              "         5.85167789e-01],\n",
              "        [7.46897743e-01, 5.87851237e-01, 4.27534542e-01, 5.33218220e-01,\n",
              "         9.56540057e-01],\n",
              "        [8.78180153e-01, 6.61060882e-01, 5.03271951e-01, 9.61353847e-02,\n",
              "         9.17164663e-01]]))"
            ]
          },
          "metadata": {},
          "execution_count": 240
        }
      ]
    },
    {
      "cell_type": "code",
      "source": [
        "np.random.randn(10), np.random.randn(3, 5)"
      ],
      "metadata": {
        "colab": {
          "base_uri": "https://localhost:8080/"
        },
        "id": "qwezEc1w4KJs",
        "outputId": "c2839bda-c0dd-420a-b9ec-257967cd4a67"
      },
      "execution_count": 243,
      "outputs": [
        {
          "output_type": "execute_result",
          "data": {
            "text/plain": [
              "(array([-0.76943903,  0.92972459, -0.67442578, -0.9691591 ,  0.68532759,\n",
              "        -0.59252473, -1.0295358 ,  0.7756705 ,  1.48963864, -0.99523812]),\n",
              " array([[ 0.06317524,  0.78620946, -1.13084313, -1.14226477, -0.56311206],\n",
              "        [-1.07598965, -0.35646002, -0.44051842, -0.52201472, -0.77702207],\n",
              "        [ 2.03102386, -1.93032647,  0.55992704, -0.33445787, -1.81422349]]))"
            ]
          },
          "metadata": {},
          "execution_count": 243
        }
      ]
    },
    {
      "cell_type": "code",
      "source": [
        "np.random.randint(10, 50, 5)"
      ],
      "metadata": {
        "colab": {
          "base_uri": "https://localhost:8080/"
        },
        "id": "XuWjJ12w3dzF",
        "outputId": "b425c9db-b890-408e-f089-dd073ed36fb3"
      },
      "execution_count": 248,
      "outputs": [
        {
          "output_type": "execute_result",
          "data": {
            "text/plain": [
              "array([39, 14, 35, 46, 38])"
            ]
          },
          "metadata": {},
          "execution_count": 248
        }
      ]
    },
    {
      "cell_type": "code",
      "source": [
        "'''\n",
        "[실습]\n",
        "로또 5천원어치\n",
        "'''\n",
        "np.random.randint(1, 46, (5, 6)), np.random.randint(1, 46, [5, 6])"
      ],
      "metadata": {
        "colab": {
          "base_uri": "https://localhost:8080/"
        },
        "id": "273Lz_5u3ds8",
        "outputId": "249c2761-cc5a-4f33-9893-1fbf7d4fbabc"
      },
      "execution_count": 260,
      "outputs": [
        {
          "output_type": "execute_result",
          "data": {
            "text/plain": [
              "(array([[24, 35, 44, 23, 18, 11],\n",
              "        [16, 43, 21, 10,  3, 35],\n",
              "        [10, 31,  4, 20, 28, 39],\n",
              "        [13,  7, 39, 44, 22,  4],\n",
              "        [ 2,  7, 29, 18, 25, 12]]),\n",
              " array([[39, 41,  8,  3, 11, 16],\n",
              "        [ 3,  7, 36, 38, 18,  3],\n",
              "        [11, 42,  1, 30, 22, 44],\n",
              "        [15,  7, 34, 23, 23,  4],\n",
              "        [26,  3, 40, 30, 29, 42]]))"
            ]
          },
          "metadata": {},
          "execution_count": 260
        }
      ]
    },
    {
      "cell_type": "code",
      "source": [
        "# 랜덤값으로 채운 행렬\n",
        "np.empty((3, 2))"
      ],
      "metadata": {
        "colab": {
          "base_uri": "https://localhost:8080/"
        },
        "id": "a8Yeo4I83dpE",
        "outputId": "4384472f-a56e-4978-ce51-3be748a6e8b5"
      },
      "execution_count": 262,
      "outputs": [
        {
          "output_type": "execute_result",
          "data": {
            "text/plain": [
              "array([[7.91e-323, 3.46e-323],\n",
              "       [9.88e-323, 1.93e-322],\n",
              "       [1.78e-322, 8.89e-323]])"
            ]
          },
          "metadata": {},
          "execution_count": 262
        }
      ]
    },
    {
      "cell_type": "code",
      "source": [
        "'''\n",
        "정렬 sort\n",
        "'''\n",
        "a = np.array([[4,3,5,6],[1,12,11,9],[2,15,1,18]])\n",
        "a, np.sort(a, axis = 0), np.sort(a, axis = 1)"
      ],
      "metadata": {
        "colab": {
          "base_uri": "https://localhost:8080/"
        },
        "id": "kAug8ySD3dmE",
        "outputId": "7e6015bf-7083-4a54-d295-d01ed5ba8e1c"
      },
      "execution_count": 268,
      "outputs": [
        {
          "output_type": "execute_result",
          "data": {
            "text/plain": [
              "(array([[ 4,  3,  5,  6],\n",
              "        [ 1, 12, 11,  9],\n",
              "        [ 2, 15,  1, 18]]),\n",
              " array([[ 1,  3,  1,  6],\n",
              "        [ 2, 12,  5,  9],\n",
              "        [ 4, 15, 11, 18]]),\n",
              " array([[ 3,  4,  5,  6],\n",
              "        [ 1,  9, 11, 12],\n",
              "        [ 1,  2, 15, 18]]))"
            ]
          },
          "metadata": {},
          "execution_count": 268
        }
      ]
    },
    {
      "cell_type": "code",
      "source": [
        "'''\n",
        "재배치 resize\n",
        "'''\n",
        "a = np.array([[4,3,5,6],[1,12,11,9],[2,15,1,18]])\n",
        "\n",
        "#print(np.reshape(a, (4, 5)))  # 원 데이터 크기 안에서만 수행 가능\n",
        "print(np.resize(a, (4, 4)))  # 원 데이터에서 순환하면서 사이즈 조절 가능"
      ],
      "metadata": {
        "colab": {
          "base_uri": "https://localhost:8080/"
        },
        "id": "btb6R2M4cv0n",
        "outputId": "3b2391c5-b95c-4e55-83ee-2aae242a295a"
      },
      "execution_count": 276,
      "outputs": [
        {
          "output_type": "stream",
          "name": "stdout",
          "text": [
            "[[ 4  3  5  6]\n",
            " [ 1 12 11  9]\n",
            " [ 2 15  1 18]\n",
            " [ 4  3  5  6]]\n"
          ]
        }
      ]
    },
    {
      "cell_type": "code",
      "source": [
        "'''\n",
        "trim_zeros : 선/후행 0 제거\n",
        "'''\n",
        "x = np.array([1,0,0,0,1,2,3,0,1,2,0,0])\n",
        "np.trim_zeros(x)"
      ],
      "metadata": {
        "colab": {
          "base_uri": "https://localhost:8080/"
        },
        "id": "fuW_3WDBcvwv",
        "outputId": "53c4f2be-f7a4-4037-b8ed-2a20242c52eb"
      },
      "execution_count": 281,
      "outputs": [
        {
          "output_type": "execute_result",
          "data": {
            "text/plain": [
              "array([1, 0, 0, 0, 1, 2, 3, 0, 1, 2])"
            ]
          },
          "metadata": {},
          "execution_count": 281
        }
      ]
    }
  ]
}
