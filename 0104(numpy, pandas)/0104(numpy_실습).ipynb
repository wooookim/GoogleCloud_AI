{
  "nbformat": 4,
  "nbformat_minor": 0,
  "metadata": {
    "colab": {
      "provenance": [],
      "include_colab_link": true
    },
    "kernelspec": {
      "name": "python3",
      "display_name": "Python 3"
    },
    "language_info": {
      "name": "python"
    }
  },
  "cells": [
    {
      "cell_type": "markdown",
      "metadata": {
        "id": "view-in-github",
        "colab_type": "text"
      },
      "source": [
        "<a href=\"https://colab.research.google.com/github/wooookim/GoogleCloud_AI/blob/main/0104(numpy_%EC%8B%A4%EC%8A%B5).ipynb\" target=\"_parent\"><img src=\"https://colab.research.google.com/assets/colab-badge.svg\" alt=\"Open In Colab\"/></a>"
      ]
    },
    {
      "cell_type": "code",
      "source": [
        "import numpy as np"
      ],
      "metadata": {
        "id": "SMKI4dBqKW9t"
      },
      "execution_count": 1,
      "outputs": []
    },
    {
      "cell_type": "code",
      "execution_count": null,
      "metadata": {
        "id": "epeBVbW8CkTf"
      },
      "outputs": [],
      "source": [
        "# 대각선 방향의 값이 1이고, 나머지 값은 0인 10x10 2차원 array를 생성하여 6번째 행을 출력하시오.\n",
        "# 예상출력 : [0. 0. 0. 0. 0. 1. 0. 0. 0. 0.]"
      ]
    },
    {
      "cell_type": "code",
      "source": [
        "np.eye(10), np.eye(10)[5]"
      ],
      "metadata": {
        "colab": {
          "base_uri": "https://localhost:8080/"
        },
        "id": "gzWim2Juq9Sl",
        "outputId": "abe91798-04d6-4aed-85c5-e4d1a232fb77"
      },
      "execution_count": 10,
      "outputs": [
        {
          "output_type": "execute_result",
          "data": {
            "text/plain": [
              "(array([[1., 0., 0., 0., 0., 0., 0., 0., 0., 0.],\n",
              "        [0., 1., 0., 0., 0., 0., 0., 0., 0., 0.],\n",
              "        [0., 0., 1., 0., 0., 0., 0., 0., 0., 0.],\n",
              "        [0., 0., 0., 1., 0., 0., 0., 0., 0., 0.],\n",
              "        [0., 0., 0., 0., 1., 0., 0., 0., 0., 0.],\n",
              "        [0., 0., 0., 0., 0., 1., 0., 0., 0., 0.],\n",
              "        [0., 0., 0., 0., 0., 0., 1., 0., 0., 0.],\n",
              "        [0., 0., 0., 0., 0., 0., 0., 1., 0., 0.],\n",
              "        [0., 0., 0., 0., 0., 0., 0., 0., 1., 0.],\n",
              "        [0., 0., 0., 0., 0., 0., 0., 0., 0., 1.]]),\n",
              " array([0., 0., 0., 0., 0., 1., 0., 0., 0., 0.]))"
            ]
          },
          "metadata": {},
          "execution_count": 10
        }
      ]
    },
    {
      "cell_type": "code",
      "source": [
        "\n",
        "\n",
        "\n",
        "\n",
        "\n"
      ],
      "metadata": {
        "colab": {
          "base_uri": "https://localhost:8080/"
        },
        "id": "ifX9p6c9KMV9",
        "outputId": "3355ac2f-e571-4867-caf5-96ca80daac32"
      },
      "execution_count": null,
      "outputs": [
        {
          "output_type": "stream",
          "name": "stdout",
          "text": [
            "[[1. 0. 0. 0. 0. 0. 0. 0. 0. 0.]\n",
            " [0. 1. 0. 0. 0. 0. 0. 0. 0. 0.]\n",
            " [0. 0. 1. 0. 0. 0. 0. 0. 0. 0.]\n",
            " [0. 0. 0. 1. 0. 0. 0. 0. 0. 0.]\n",
            " [0. 0. 0. 0. 1. 0. 0. 0. 0. 0.]\n",
            " [0. 0. 0. 0. 0. 1. 0. 0. 0. 0.]\n",
            " [0. 0. 0. 0. 0. 0. 1. 0. 0. 0.]\n",
            " [0. 0. 0. 0. 0. 0. 0. 1. 0. 0.]\n",
            " [0. 0. 0. 0. 0. 0. 0. 0. 1. 0.]\n",
            " [0. 0. 0. 0. 0. 0. 0. 0. 0. 1.]]\n",
            "[0. 0. 0. 0. 0. 1. 0. 0. 0. 0.]\n"
          ]
        }
      ]
    },
    {
      "cell_type": "code",
      "source": [
        "#길이가 10인 모든 값이 1인 1 차원 array를 생성하시오.\n",
        "#예상출력 : [1. 1. 1. 1. 1. 1. 1. 1. 1. 1.]\n",
        "\n",
        "\n",
        "\n",
        "\n",
        "\n"
      ],
      "metadata": {
        "colab": {
          "base_uri": "https://localhost:8080/"
        },
        "id": "vBGiyS9YKMYp",
        "outputId": "3688b8c7-a681-483c-bbb6-c9b6fe7cd0b5"
      },
      "execution_count": null,
      "outputs": [
        {
          "output_type": "stream",
          "name": "stdout",
          "text": [
            "[[1. 1. 1. 1. 1. 1. 1. 1. 1. 1.]]\n",
            "[1. 1. 1. 1. 1. 1. 1. 1. 1. 1.]\n"
          ]
        }
      ]
    },
    {
      "cell_type": "code",
      "source": [
        "#길이가 10인 모든 값이 1인 1 차원 array를 생성하시오.\n",
        "#예상출력 : [1. 1. 1. 1. 1. 1. 1. 1. 1. 1.]\n",
        "np.array([1 for i in range(10)])\n",
        "\n",
        "np.diag(np.identity(10))"
      ],
      "metadata": {
        "colab": {
          "base_uri": "https://localhost:8080/"
        },
        "id": "AHEiSl1zrv4F",
        "outputId": "7e4f867a-8906-4ffd-865e-0e09b2a270a5"
      },
      "execution_count": 19,
      "outputs": [
        {
          "output_type": "execute_result",
          "data": {
            "text/plain": [
              "array([1., 1., 1., 1., 1., 1., 1., 1., 1., 1.])"
            ]
          },
          "metadata": {},
          "execution_count": 19
        }
      ]
    },
    {
      "cell_type": "code",
      "source": [
        "#i행 j열의 값이 2i + 3j 인 10x10 2차원 array를 생성하여 마지막 열을 출력하시오.\n",
        "#예상출력 : [18 21 24 27 30 33 36 39 42 45]\n",
        "\n",
        "\n",
        "\n",
        "\n",
        "\n"
      ],
      "metadata": {
        "colab": {
          "base_uri": "https://localhost:8080/"
        },
        "id": "DutsfrYYKMbX",
        "outputId": "42985c23-55bc-4d6d-d434-100f2f2bccef"
      },
      "execution_count": null,
      "outputs": [
        {
          "output_type": "stream",
          "name": "stdout",
          "text": [
            "[[ 0  3  6  9 12 15 18 21 24 27]\n",
            " [ 2  5  8 11 14 17 20 23 26 29]\n",
            " [ 4  7 10 13 16 19 22 25 28 31]\n",
            " [ 6  9 12 15 18 21 24 27 30 33]\n",
            " [ 8 11 14 17 20 23 26 29 32 35]\n",
            " [10 13 16 19 22 25 28 31 34 37]\n",
            " [12 15 18 21 24 27 30 33 36 39]\n",
            " [14 17 20 23 26 29 32 35 38 41]\n",
            " [16 19 22 25 28 31 34 37 40 43]\n",
            " [18 21 24 27 30 33 36 39 42 45]]\n",
            "[18 21 24 27 30 33 36 39 42 45]\n"
          ]
        }
      ]
    },
    {
      "cell_type": "code",
      "source": [
        "#i행 j열의 값이 2i + 3j 인 10x10 2차원 array를 생성하여 마지막 열을 출력하시오.\n",
        "#예상출력 : [18 21 24 27 30 33 36 39 42 45]\n",
        "\n"
      ],
      "metadata": {
        "colab": {
          "base_uri": "https://localhost:8080/"
        },
        "id": "at1JdbTTshGk",
        "outputId": "df87daab-d394-4fce-fae4-8463d7ea1e60"
      },
      "execution_count": 39,
      "outputs": [
        {
          "output_type": "execute_result",
          "data": {
            "text/plain": [
              "array([ 5, 10, 15, 20, 25, 30, 35, 40, 45, 50])"
            ]
          },
          "metadata": {},
          "execution_count": 39
        }
      ]
    },
    {
      "cell_type": "code",
      "source": [
        "# 공백으로 구분된 정수들을 입력 받아 1차원 리스트에 저장하고, 최댓값의 index를 출력하세요. NumPy 함수를 이용해 아래 문제를 해결하시오.\n",
        "# numpy 문서를 참조하세요\n",
        "# 입력예시 : 1 85 0 91 4\n",
        "# 정답출력 : 3\n",
        "\n",
        "\n",
        "\n",
        "\n"
      ],
      "metadata": {
        "colab": {
          "base_uri": "https://localhost:8080/"
        },
        "id": "oEvOz2q2KMdk",
        "outputId": "55f45747-7efe-4a67-db24-ce0da80d2ce0"
      },
      "execution_count": null,
      "outputs": [
        {
          "output_type": "stream",
          "name": "stdout",
          "text": [
            "1 85 0 91 4\n",
            "3\n"
          ]
        }
      ]
    }
  ]
}
