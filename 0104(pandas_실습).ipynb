{
  "cells": [
    {
      "cell_type": "markdown",
      "metadata": {
        "id": "view-in-github",
        "colab_type": "text"
      },
      "source": [
        "<a href=\"https://colab.research.google.com/github/wooookim/GoogleCloud_AI/blob/main/0104(pandas_%EC%8B%A4%EC%8A%B5).ipynb\" target=\"_parent\"><img src=\"https://colab.research.google.com/assets/colab-badge.svg\" alt=\"Open In Colab\"/></a>"
      ]
    },
    {
      "cell_type": "markdown",
      "metadata": {
        "id": "7ixFhWe0wyOq"
      },
      "source": [
        "### 문제\n",
        "\n",
        "* 다음과 같은 두 데이터 집합이 있습니다."
      ]
    },
    {
      "cell_type": "code",
      "execution_count": 1,
      "metadata": {
        "id": "9efopydjwyOr"
      },
      "outputs": [],
      "source": [
        "superheroes = [\n",
        "    \"Batman\",\n",
        "    \"Superman\",\n",
        "    \"Spider-Man\",\n",
        "    \"Iron Man\",\n",
        "    \"Captain America\",\n",
        "    \"Wonder Woman\"\n",
        "]"
      ]
    },
    {
      "cell_type": "code",
      "execution_count": 2,
      "metadata": {
        "id": "3YfRco1OwyOr"
      },
      "outputs": [],
      "source": [
        "strength_levels = (100, 120, 90, 95, 110, 120)"
      ]
    },
    {
      "cell_type": "markdown",
      "source": [
        "* 다음 태스크를 수행하세요"
      ],
      "metadata": {
        "id": "9_aQlls2yDNK"
      }
    },
    {
      "cell_type": "code",
      "execution_count": 8,
      "metadata": {
        "id": "LTuP_pC9wyOr",
        "outputId": "474c520f-8cd5-443c-8fac-0cf6b22b3c2f",
        "colab": {
          "base_uri": "https://localhost:8080/"
        }
      },
      "outputs": [
        {
          "output_type": "execute_result",
          "data": {
            "text/plain": [
              "0             Batman\n",
              "1           Superman\n",
              "2         Spider-Man\n",
              "3           Iron Man\n",
              "4    Captain America\n",
              "5       Wonder Woman\n",
              "dtype: object"
            ]
          },
          "metadata": {},
          "execution_count": 8
        }
      ],
      "source": [
        "# superheroes 를 Series 객체로 생성\n",
        "import pandas as pd\n",
        "\n",
        "val = pd.Series(superheroes)\n",
        "val"
      ]
    },
    {
      "cell_type": "code",
      "execution_count": null,
      "metadata": {
        "id": "LpNboOopwyOs",
        "outputId": "0eda8c39-dc56-42d6-beab-47cf27ae1df2"
      },
      "outputs": [
        {
          "data": {
            "text/plain": [
              "0    100\n",
              "1    120\n",
              "2     90\n",
              "3     95\n",
              "4    110\n",
              "5    120\n",
              "dtype: int64"
            ]
          },
          "execution_count": 95,
          "metadata": {},
          "output_type": "execute_result"
        }
      ],
      "source": [
        "# strenth_levels를 Series 객체로 생성\n"
      ]
    },
    {
      "cell_type": "code",
      "source": [
        "# strenth_levels를 Series 객체로 생성\n",
        "idx = pd.Series(strength_levels)\n",
        "idx"
      ],
      "metadata": {
        "colab": {
          "base_uri": "https://localhost:8080/"
        },
        "id": "bs2-a5MyofnP",
        "outputId": "b95e5ef9-c315-493f-df4a-a93c696ef7d8"
      },
      "execution_count": 9,
      "outputs": [
        {
          "output_type": "execute_result",
          "data": {
            "text/plain": [
              "0    100\n",
              "1    120\n",
              "2     90\n",
              "3     95\n",
              "4    110\n",
              "5    120\n",
              "dtype: int64"
            ]
          },
          "metadata": {},
          "execution_count": 9
        }
      ]
    },
    {
      "cell_type": "code",
      "execution_count": null,
      "metadata": {
        "id": "lldNWJz_wyOs",
        "outputId": "5d30092e-a9e5-4e7c-935f-75659427126e"
      },
      "outputs": [
        {
          "data": {
            "text/plain": [
              "Batman             100\n",
              "Superman           120\n",
              "Spider-Man          90\n",
              "Iron Man            95\n",
              "Captain America    110\n",
              "Wonder Woman       120\n",
              "dtype: int64"
            ]
          },
          "execution_count": 96,
          "metadata": {},
          "output_type": "execute_result"
        }
      ],
      "source": [
        "# superheroes를 인덱스 레이블로, strengh_levels를 값으로 하여 Series 객체를 생성\n",
        "\n",
        "\n",
        "\n",
        "\n",
        "\n"
      ]
    },
    {
      "cell_type": "code",
      "source": [
        "# superheroes를 인덱스 레이블로, strengh_levels를 값으로 하여 Series 객체를 생성\n",
        "pd.Series(idx.values, index = val)"
      ],
      "metadata": {
        "colab": {
          "base_uri": "https://localhost:8080/"
        },
        "id": "m2wR-GTXord2",
        "outputId": "dd56595b-63a8-49dd-b4cd-ad644a803953"
      },
      "execution_count": 13,
      "outputs": [
        {
          "output_type": "execute_result",
          "data": {
            "text/plain": [
              "Batman             100\n",
              "Superman           120\n",
              "Spider-Man          90\n",
              "Iron Man            95\n",
              "Captain America    110\n",
              "Wonder Woman       120\n",
              "dtype: int64"
            ]
          },
          "metadata": {},
          "execution_count": 13
        }
      ]
    },
    {
      "cell_type": "code",
      "execution_count": null,
      "metadata": {
        "id": "xzFPn23swyOs",
        "outputId": "6d8da193-ba2f-4076-bd29-11f0a1afe59d"
      },
      "outputs": [
        {
          "data": {
            "text/plain": [
              "Batman      100\n",
              "Superman    120\n",
              "dtype: int64"
            ]
          },
          "execution_count": 97,
          "metadata": {},
          "output_type": "execute_result"
        }
      ],
      "source": [
        "# heroes Series의 처음 2행을 추출\n"
      ]
    },
    {
      "cell_type": "code",
      "source": [
        "# heroes Series의 처음 2행을 추출\n",
        "pd.Series(idx.values, index = val)[:2]"
      ],
      "metadata": {
        "colab": {
          "base_uri": "https://localhost:8080/"
        },
        "id": "bHfwjIsapgN2",
        "outputId": "bd9bf40c-cd0f-4c61-a803-f073fe0beb90"
      },
      "execution_count": 15,
      "outputs": [
        {
          "output_type": "execute_result",
          "data": {
            "text/plain": [
              "Batman      100\n",
              "Superman    120\n",
              "dtype: int64"
            ]
          },
          "metadata": {},
          "execution_count": 15
        }
      ]
    },
    {
      "cell_type": "code",
      "execution_count": null,
      "metadata": {
        "id": "DijsckDEwyOs",
        "outputId": "4f7028ea-beef-491a-86da-1e42ee927fa8"
      },
      "outputs": [
        {
          "data": {
            "text/plain": [
              "Spider-Man          90\n",
              "Iron Man            95\n",
              "Captain America    110\n",
              "Wonder Woman       120\n",
              "dtype: int64"
            ]
          },
          "execution_count": 98,
          "metadata": {},
          "output_type": "execute_result"
        }
      ],
      "source": [
        "# heroes Series의 마지막 4개 행 추출\n"
      ]
    },
    {
      "cell_type": "code",
      "source": [
        "# heroes Series의 마지막 4개 행 추출\n",
        "pd.Series(idx.values, index = val)[-4:]"
      ],
      "metadata": {
        "colab": {
          "base_uri": "https://localhost:8080/"
        },
        "id": "OQDiicr-ppQc",
        "outputId": "fe18d696-9cd4-422d-9c59-5ecc39d8e000"
      },
      "execution_count": 18,
      "outputs": [
        {
          "output_type": "execute_result",
          "data": {
            "text/plain": [
              "Spider-Man          90\n",
              "Iron Man            95\n",
              "Captain America    110\n",
              "Wonder Woman       120\n",
              "dtype: int64"
            ]
          },
          "metadata": {},
          "execution_count": 18
        }
      ]
    },
    {
      "cell_type": "code",
      "execution_count": null,
      "metadata": {
        "id": "bL9DRZ9jwyOs",
        "outputId": "dd92b61e-d555-4edf-afdd-35a65e095126"
      },
      "outputs": [
        {
          "data": {
            "text/plain": [
              "5"
            ]
          },
          "execution_count": 99,
          "metadata": {},
          "output_type": "execute_result"
        }
      ],
      "source": [
        "# heroes Series의 고유한 값의 개수를 추출\n"
      ]
    },
    {
      "cell_type": "code",
      "source": [
        "# heroes Series의 고유한 값의 개수를 추출\n",
        "pd.Series(idx.values, index = val).unique()"
      ],
      "metadata": {
        "colab": {
          "base_uri": "https://localhost:8080/"
        },
        "id": "6Gft1wwjpxQk",
        "outputId": "c4ec1956-81c7-4500-b2ff-90f8c4718884"
      },
      "execution_count": 23,
      "outputs": [
        {
          "output_type": "execute_result",
          "data": {
            "text/plain": [
              "array([100, 120,  90,  95, 110])"
            ]
          },
          "metadata": {},
          "execution_count": 23
        }
      ]
    },
    {
      "cell_type": "code",
      "execution_count": null,
      "metadata": {
        "id": "AzSo8Zk9wyOt",
        "outputId": "d006f084-c2d7-4ebc-a65d-840c0fbb54af"
      },
      "outputs": [
        {
          "data": {
            "text/plain": [
              "105.83333333333333"
            ]
          },
          "execution_count": 100,
          "metadata": {},
          "output_type": "execute_result"
        }
      ],
      "source": [
        "# heroes의 평균 능력치 추출\n"
      ]
    },
    {
      "cell_type": "code",
      "source": [
        "# heroes의 평균 능력치 추출\n",
        "pd.Series(idx.values, index = val).mean()"
      ],
      "metadata": {
        "colab": {
          "base_uri": "https://localhost:8080/"
        },
        "id": "Wicgjw5jqVh9",
        "outputId": "330b896c-8e1d-4004-b23b-93181edd095b"
      },
      "execution_count": 24,
      "outputs": [
        {
          "output_type": "execute_result",
          "data": {
            "text/plain": [
              "105.83333333333333"
            ]
          },
          "metadata": {},
          "execution_count": 24
        }
      ]
    },
    {
      "cell_type": "code",
      "execution_count": null,
      "metadata": {
        "id": "5nkZOZ-vwyOt",
        "outputId": "273d4a19-2d31-4d08-e813-86e8598f3078"
      },
      "outputs": [
        {
          "data": {
            "text/plain": [
              "120"
            ]
          },
          "execution_count": 101,
          "metadata": {},
          "output_type": "execute_result"
        }
      ],
      "source": [
        "# heroes의 최대 능력치 추출\n"
      ]
    },
    {
      "cell_type": "code",
      "source": [
        "# heroes의 최대 능력치 추출\n",
        "pd.Series(idx.values, index = val).max()"
      ],
      "metadata": {
        "colab": {
          "base_uri": "https://localhost:8080/"
        },
        "id": "l_PPJkWwqZgF",
        "outputId": "47e0eda8-24b1-4c03-adb5-eb50f7b2d42f"
      },
      "execution_count": 25,
      "outputs": [
        {
          "output_type": "execute_result",
          "data": {
            "text/plain": [
              "120"
            ]
          },
          "metadata": {},
          "execution_count": 25
        }
      ]
    },
    {
      "cell_type": "code",
      "execution_count": null,
      "metadata": {
        "id": "1oaApb-gwyOt",
        "outputId": "5d43dab6-bb09-4810-a16b-18eb9feac28c"
      },
      "outputs": [
        {
          "data": {
            "text/plain": [
              "90"
            ]
          },
          "execution_count": 102,
          "metadata": {},
          "output_type": "execute_result"
        }
      ],
      "source": [
        "# heroes의 최소 능력치 추출\n"
      ]
    },
    {
      "cell_type": "code",
      "source": [
        "# heroes의 최소 능력치 추출\n",
        "pd.Series(idx.values, index = val).min()"
      ],
      "metadata": {
        "colab": {
          "base_uri": "https://localhost:8080/"
        },
        "id": "0ad30HrmqdHF",
        "outputId": "ff1c123d-c56f-4b8b-a926-4f2836c7e2f5"
      },
      "execution_count": 26,
      "outputs": [
        {
          "output_type": "execute_result",
          "data": {
            "text/plain": [
              "90"
            ]
          },
          "metadata": {},
          "execution_count": 26
        }
      ]
    },
    {
      "cell_type": "code",
      "execution_count": null,
      "metadata": {
        "id": "gOUcP4HUwyOt",
        "outputId": "2de92184-9619-4377-a6df-cea3f35ca411"
      },
      "outputs": [
        {
          "data": {
            "text/plain": [
              "Batman             200\n",
              "Superman           240\n",
              "Spider-Man         180\n",
              "Iron Man           190\n",
              "Captain America    220\n",
              "Wonder Woman       240\n",
              "dtype: int64"
            ]
          },
          "execution_count": 103,
          "metadata": {},
          "output_type": "execute_result"
        }
      ],
      "source": [
        "# 각 herores의 능력치가 2배가 얼마인지 추출\n"
      ]
    },
    {
      "cell_type": "code",
      "source": [
        "# 각 herores의 능력치가 2배가 얼마인지 추출\n",
        "pd.Series(idx.values, index = val) * 2"
      ],
      "metadata": {
        "colab": {
          "base_uri": "https://localhost:8080/"
        },
        "id": "oHH3HtkPqgNF",
        "outputId": "441a478f-2391-4f86-b8ff-16d7544948e7"
      },
      "execution_count": 27,
      "outputs": [
        {
          "output_type": "execute_result",
          "data": {
            "text/plain": [
              "Batman             200\n",
              "Superman           240\n",
              "Spider-Man         180\n",
              "Iron Man           190\n",
              "Captain America    220\n",
              "Wonder Woman       240\n",
              "dtype: int64"
            ]
          },
          "metadata": {},
          "execution_count": 27
        }
      ]
    },
    {
      "cell_type": "code",
      "execution_count": null,
      "metadata": {
        "id": "lP7ukEPIwyOu",
        "outputId": "ba2ee9ba-e3fc-4776-9497-271fb3d667a9"
      },
      "outputs": [
        {
          "data": {
            "text/plain": [
              "{'Batman': 100,\n",
              " 'Superman': 120,\n",
              " 'Spider-Man': 90,\n",
              " 'Iron Man': 95,\n",
              " 'Captain America': 110,\n",
              " 'Wonder Woman': 120}"
            ]
          },
          "execution_count": 104,
          "metadata": {},
          "output_type": "execute_result"
        }
      ],
      "source": [
        "# heroes 정보를 파이썬 딕셔너리로 변경해서 추출\n"
      ]
    },
    {
      "cell_type": "code",
      "source": [
        "# heroes 정보를 파이썬 딕셔너리로 변경해서 추출\n",
        "dict(pd.Series(idx.values, index = val))"
      ],
      "metadata": {
        "colab": {
          "base_uri": "https://localhost:8080/"
        },
        "id": "I3XtCygRqlsl",
        "outputId": "122ff4f2-fb49-40d7-a629-0f8404484e66"
      },
      "execution_count": 29,
      "outputs": [
        {
          "output_type": "execute_result",
          "data": {
            "text/plain": [
              "{'Batman': 100,\n",
              " 'Superman': 120,\n",
              " 'Spider-Man': 90,\n",
              " 'Iron Man': 95,\n",
              " 'Captain America': 110,\n",
              " 'Wonder Woman': 120}"
            ]
          },
          "metadata": {},
          "execution_count": 29
        }
      ]
    }
  ],
  "metadata": {
    "kernelspec": {
      "display_name": "Python 3",
      "language": "python",
      "name": "python3"
    },
    "language_info": {
      "codemirror_mode": {
        "name": "ipython",
        "version": 3
      },
      "file_extension": ".py",
      "mimetype": "text/x-python",
      "name": "python",
      "nbconvert_exporter": "python",
      "pygments_lexer": "ipython3",
      "version": "3.9.2"
    },
    "colab": {
      "provenance": [],
      "include_colab_link": true
    }
  },
  "nbformat": 4,
  "nbformat_minor": 0
}